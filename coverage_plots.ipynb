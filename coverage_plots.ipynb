{
 "cells": [
  {
   "cell_type": "markdown",
   "id": "7f61ecc3-8076-46de-ac6c-739412b48c6f",
   "metadata": {},
   "source": [
    "# Time-Coverage Integrated Plots\n",
    "\n",
    "This notebook produces **integrated Time Performance & Coverage charts** in Seaborn, as Nitin Yadav originally designed and build in R.\n",
    "\n",
    "Sebastian Sardina 2023-2024 - ssardina@gmail.com\n",
    "\n",
    "Notebook originally available at: https://github.com/ssardina-research/coverage-plots"
   ]
  },
  {
   "cell_type": "code",
   "execution_count": 15,
   "id": "ac2a61c4-d7a1-4b58-977d-c2bc468b61e4",
   "metadata": {},
   "outputs": [],
   "source": [
    "import pandas as pd\n",
    "import seaborn as sns\n",
    "import os\n",
    "import numpy as np\n",
    "import matplotlib.pyplot as plt\n",
    "\n",
    "# sys.dont_write_bytecode = True  # prevent creation of .pyc files\n",
    "\n",
    "STATS_CSV_FILE = os.path.join(\"data_stats.csv\")\n",
    "CSV_FOLDER = os.path.dirname(STATS_CSV_FILE)\n",
    "CSV_BASENAME = os.path.basename(STATS_CSV_FILE).split(\".\")[0]"
   ]
  },
  {
   "cell_type": "markdown",
   "id": "ad0cd1bd",
   "metadata": {},
   "source": [
    "## 1. Load data from CSV tables & select subset"
   ]
  },
  {
   "cell_type": "markdown",
   "id": "06a27abb",
   "metadata": {},
   "source": [
    "First load CSV table with stats and then project interested set into `df_sel` dataframe. Must have following columns:\n",
    "\n",
    "- `solver`: name of the solver.\n",
    "- `domain`: name of the domain.\n",
    "- `cputime`: CPU time of run."
   ]
  },
  {
   "cell_type": "code",
   "execution_count": null,
   "id": "8c47cf6b",
   "metadata": {},
   "outputs": [],
   "source": [
    "df = pd.read_csv(STATS_CSV_FILE)\n",
    "\n",
    "SOLVERS = df[\"solver\"].unique()\n",
    "DOMAINS = df[\"domain\"].unique()\n",
    "\n",
    "print(\"Domains found:\", DOMAINS)\n",
    "print(\"Solvers found:\", SOLVERS)\n",
    "\n",
    "df.sample(100)"
   ]
  },
  {
   "cell_type": "markdown",
   "id": "dda058ab",
   "metadata": {},
   "source": [
    "Project over selected domains and solvers."
   ]
  },
  {
   "cell_type": "code",
   "execution_count": null,
   "id": "3dfed477",
   "metadata": {},
   "outputs": [],
   "source": [
    "SOLVERS_SEL = SOLVERS   # select all solvers\n",
    "DOMAINS_SEL = DOMAINS   # select all domains\n",
    "\n",
    "# DOMAINS_SEL = [\"spiky-tireworld\"]\n",
    "\n",
    "print(\"Solvers selected:\", SOLVERS_SEL)\n",
    "print(\"Domains selected:\", DOMAINS_SEL)\n",
    "\n",
    "df_sel = df.loc[(df.solver.isin(SOLVERS_SEL)) & (df.domain.isin(DOMAINS_SEL))]\n",
    "\n",
    "df_sel.head()"
   ]
  },
  {
   "cell_type": "markdown",
   "id": "f451716a",
   "metadata": {},
   "source": [
    "Make `solver` column categorical (this will fix the order in plots of its axis, thus making all superimposed plots consistent)."
   ]
  },
  {
   "cell_type": "code",
   "execution_count": null,
   "id": "db4174b5",
   "metadata": {},
   "outputs": [],
   "source": [
    "df_sel[\"solver\"] = pd.Categorical(df_sel.solver)\n",
    "\n",
    "df_sel.dtypes"
   ]
  },
  {
   "cell_type": "markdown",
   "id": "3ec83105",
   "metadata": {},
   "source": [
    "## 2. Compute rich coverage table for plotting"
   ]
  },
  {
   "cell_type": "markdown",
   "id": "7a91d05c",
   "metadata": {},
   "source": [
    "Now we operated on the selected dataframe `df_sel`.\n",
    "\n",
    "First, count how MANY instances per domain:"
   ]
  },
  {
   "cell_type": "code",
   "execution_count": null,
   "id": "bf8b3fed",
   "metadata": {},
   "outputs": [],
   "source": [
    "selection_index = ['domain']\n",
    "\n",
    "# count the number of each run per full_domain (e.g., how many lpg runs in Barman-EIGHT50)\n",
    "count_df = df_sel.groupby(by=selection_index)['solver'].value_counts()\n",
    "\n",
    "count_df = count_df.reset_index(name=\"count\")\n",
    "\n",
    "# # transofm the serie into a dataframe and value becomes percent\n",
    "# coverage_df = coverage_df.mul(100).round(0).rename('percent').reset_index()\n",
    "# coverage_df = coverage_df.loc[coverage_df.status].reset_index(drop=True)    # keep just the TRUE status (solved!)\n",
    "\n",
    "count_df\n",
    "# count_df.query(\"domain == 'miner' or domain == 'tireworld'\")"
   ]
  },
  {
   "cell_type": "markdown",
   "id": "3b8070e2",
   "metadata": {},
   "source": [
    "Next calculate **coverage** for each solver run in each domain:"
   ]
  },
  {
   "cell_type": "code",
   "execution_count": null,
   "id": "01579519",
   "metadata": {},
   "outputs": [],
   "source": [
    "def compute_coverage(df: pd.DataFrame) -> pd.DataFrame:\n",
    "    # columns to group-by\n",
    "    selection_index = [\"solver\", \"domain\"]\n",
    "\n",
    "    # count normalized (0-1) the number of grade after grouping for all the other values\n",
    "    coverage_df = df.groupby(by=selection_index)[\"solved\"].value_counts(normalize=True)\n",
    "\n",
    "    # transofm the serie into a dataframe and value becomes percent\n",
    "    coverage_df = coverage_df.mul(100).rename(\"percent\").reset_index()\n",
    "\n",
    "    # convert the rows that have 100% unsovable (False), to 0% solvable (True)\n",
    "    #   otherwise, there will be no True solvable for those cases!\n",
    "    mask_unsolvable = (~coverage_df.solved) & (coverage_df.percent == 100)\n",
    "    coverage_df.loc[mask_unsolvable, [\"solved\", \"percent\"]] = [True, 0]\n",
    "\n",
    "    # return the % of solvable stats\n",
    "    return coverage_df.loc[coverage_df.solved].round(\n",
    "        0\n",
    "    )\n",
    "\n",
    "coverage_df = compute_coverage(df_sel)\n",
    "coverage_df\n",
    "\n",
    "# SOME FILTERS\n",
    "# coverage_df.query(\"solver == 'A1'\")"
   ]
  },
  {
   "cell_type": "markdown",
   "id": "e3b3ecad",
   "metadata": {},
   "source": [
    "Compute the CPU time mean per domain/solver."
   ]
  },
  {
   "cell_type": "code",
   "execution_count": null,
   "id": "96ca5020",
   "metadata": {},
   "outputs": [],
   "source": [
    "selection_index = [\"domain\", \"solver\"]\n",
    "\n",
    "# mean of cputime for SOLVED instances\n",
    "cputime_mean_df = df_sel.loc[df_sel.solved].groupby(by=selection_index)[\"cputime\"].mean().round(2)\n",
    "\n",
    "# mean of cputime for ALL instances\n",
    "# cputime_mean_df = df_sel.groupby(by=selection_index)[\"cputime\"].mean()\n",
    "\n",
    "cputime_mean_df = cputime_mean_df.reset_index(name=\"cputime_mean\")\n",
    "\n",
    "cputime_mean_df"
   ]
  },
  {
   "cell_type": "markdown",
   "id": "8fe8e541",
   "metadata": {},
   "source": [
    "Join coverage table with count instances and cpu mean time tables, into a single one:"
   ]
  },
  {
   "cell_type": "code",
   "execution_count": null,
   "id": "b698cc70",
   "metadata": {},
   "outputs": [],
   "source": [
    "coverage_df = coverage_df.merge(count_df, how=\"left\")\n",
    "coverage_df = coverage_df.merge(cputime_mean_df, how=\"left\")\n",
    "\n",
    "coverage_df"
   ]
  },
  {
   "cell_type": "markdown",
   "id": "747d8c99",
   "metadata": {},
   "source": [
    "## 3. Build integrated time-coverage plots\n",
    "\n",
    "Some useful links to make nice charts:\n",
    "\n",
    "* [Changing plot style and color](https://s3.amazonaws.com/assets.datacamp.com/production/course_15192/slides/chapter4.pdf).\n",
    "* [Advanced Seaborn: Demystifying the Complex Plots!](https://levelup.gitconnected.com/advanced-seaborn-demystifying-the-complex-plots-537582977c8c#5965 )"
   ]
  },
  {
   "cell_type": "markdown",
   "id": "e67b0118",
   "metadata": {},
   "source": [
    "Let's first inspect/check the coverage in a random domain:"
   ]
  },
  {
   "cell_type": "code",
   "execution_count": null,
   "id": "99a19d74",
   "metadata": {},
   "outputs": [],
   "source": [
    "import random\n",
    "\n",
    "x = random.choice(coverage_df['domain'].unique())\n",
    "coverage_df.loc[coverage_df.domain == x]"
   ]
  },
  {
   "cell_type": "markdown",
   "id": "9053251c",
   "metadata": {},
   "source": [
    "Now, the the MAIN code for plotting complex combined time-coverage charts across as done with the original R's script from Nitin for ECAI'23.\n",
    "\n",
    "The final integrated plit is built in three stages:\n",
    "\n",
    "1. For each domain (e.g., `acrobatics`), draw a _relational scatter subplot_ showing time performance across instances per solver/run.\n",
    "2. On each subplot, superimpose the cputime mean for each solver.\n",
    "3. Finally, superimpose coverage bars and % for each solver.\n",
    "\n",
    "In each subplot, the title shows the full domain with the number of instances run (e.g., `acrobatic (20)` means 20 instances run for `acrobatic` domain).\n"
   ]
  },
  {
   "cell_type": "code",
   "execution_count": null,
   "id": "736bc2af",
   "metadata": {},
   "outputs": [],
   "source": [
    "#############################################\n",
    "# PLOT CONFIGURATIONS\n",
    "#############################################\n",
    "\n",
    "# https://seaborn.pydata.org/tutorial/aesthetics.html\n",
    "# https://seaborn.pydata.org/generated/seaborn.set_theme.html\n",
    "sns.set_theme()\n",
    "# sns.set_style(\"darkgrid\")\n",
    "sns.set_style(\"darkgrid\", {\"axes.facecolor\": \".9\"})\n",
    "# sns.set_style(rc={\"axes.facecolor\": \"lightgrey\"})\n",
    "\n",
    "TITLE_GRAPH = f\"Time-Coverage Results\"\n",
    "COL_WRAP = 4  # set how many subplots per row\n",
    "GAP_SOLVERS = 1.7  # gap between solver names in y axis (lower, more gap)\n",
    "ASPECT_SUBPLOTS = 1.2  # aspect ratio of each subplot\n",
    "\n",
    "FMT_COVERAGE_LABEL = \"%.0f%%\"  # coverage with percentage sign %\n",
    "# FMT_COVERAGE_LABEL = \"%.0f\" # coverage without percentage sign %\n",
    "MEAN_CPU_COLOR = \"black\"  # color of the mean label in each solver bar\n",
    "BAR_CPUTIME_WIDTH = 0  # how thick the bar line for cputime (usually 0 - no bar)\n",
    "BAR_COVERAGE_WIDTH = 1.5  # how thick the bar line for coverage\n",
    "\n",
    "\n",
    "# DEFINE BOXES USED BELOW\n",
    "# box for the title of each subplot\n",
    "# https://matplotlib.org/stable/api/_as_gen/matplotlib.patches.FancyBboxPatch.html#matplotlib.patches.FancyBboxPatch\n",
    "bbox_title = dict(\n",
    "    boxstyle=\"square\", fc=\"lightgrey\", fill=True, color=\"grey\"\n",
    ")  # title of each subplot (domain name)\n",
    "bbox_coverage = dict(\n",
    "    boxstyle=\"round\", fc=\"1\", fill=True, color=\"black\"\n",
    ")  # style of the coverage label per solver (fc = 1 is white)\n",
    "bbox_cputime = dict(boxstyle=None, fc=\"0.9\", fill=True, color=\"r\")\n",
    "\n",
    "####################################################################################\n",
    "## FIRST, produce one scatter subplot per domain with x=cputime and y=solver\n",
    "# https://seaborn.pydata.org/generated/seaborn.relplot.html#seaborn.relplot\n",
    "####################################################################################\n",
    "g = sns.relplot(\n",
    "    data=df_sel.query(\"solved\"),\n",
    "    kind=\"scatter\",\n",
    "    s=50,\n",
    "    x=\"cputime\",\n",
    "    y=\"solver\",\n",
    "    col=\"domain\",  # one subplot per domain\n",
    "    col_wrap=COL_WRAP,\n",
    "    height=len(SOLVERS_SEL) / GAP_SOLVERS,\n",
    "    aspect=ASPECT_SUBPLOTS,\n",
    ")\n",
    "\n",
    "# Let's set titles\n",
    "g.set_axis_labels(\"time\", \"solver\")\n",
    "g.set_titles(  #   most options are passed to text: https://matplotlib.org/stable/api/text_api.html\n",
    "    col_template=\"{col_name}\",\n",
    "    fontweight=\"demibold\",\n",
    "    ha=\"center\",\n",
    "    va=\"center\",\n",
    "    bbox=bbox_title,\n",
    ")\n",
    "g.figure.suptitle(\n",
    "    TITLE_GRAPH, ha=\"left\", va=\"top\", fontsize=\"xx-large\", y=1\n",
    ")  # https://matplotlib.org/stable/api/_as_gen/matplotlib.pyplot.suptitle.html\n",
    "\n",
    "\n",
    "print(\"Finished building scattered plot of cputime. Next overlapping coverage bars...\")\n",
    "\n",
    "# get all the axes (subplots) of the FaceGrid\n",
    "axes = g.axes.flatten()\n",
    "sns.set_style(\"ticks\")  # just ticks, no grid from now on...\n",
    "plt.grid()  # grid for solver marks\n",
    "\n",
    "####################################################################################\n",
    "# SECOND, super-impose cputime mean numbers per solver in each subplot in the grid\n",
    "####################################################################################\n",
    "for ax in axes:\n",
    "    domain = ax.get_title()\n",
    "    g_cpumean = sns.barplot(  # draw the bar of mean cputime per solver\n",
    "        data=coverage_df[coverage_df.domain.eq(domain)],\n",
    "        x=\"cputime_mean\",\n",
    "        y=\"solver\",\n",
    "        width=0.0001,\n",
    "        linewidth=BAR_CPUTIME_WIDTH,\n",
    "        edgecolor=\".5\",\n",
    "        facecolor=(0, 0, 0, 0),\n",
    "        ax=ax,\n",
    "    )\n",
    "    g_cpumean.set(xlabel=None)\n",
    "\n",
    "    # add cpu mean number per solver, but a bit up to not clash with coverage bar!\n",
    "    # https://stackoverflow.com/questions/70693878/flexible-placement-of-labels-in-seaborn-barplots\n",
    "    for p in ax.patches:\n",
    "        perc = p.get_width()  # the label for the bar\n",
    "        x = p.get_width()\n",
    "        y = p.get_y() + p.get_height() / 2\n",
    "\n",
    "        ax.annotate(perc, (x * 1.1, y - 0.05), color=MEAN_CPU_COLOR)\n",
    "\n",
    "    # this will add the cpu mean per solver, but will clash with the coverage bar!\n",
    "    # if len(ax.containers) > 0: # may not be no number!\n",
    "    #     ax.bar_label(  # set the mean number in the bar at the end (cannot shift tup!)\n",
    "    #         ax.containers[0],\n",
    "    #         fmt=\"%.2f\",\n",
    "    #         label_type=\"edge\",\n",
    "    #         padding=5,\n",
    "    #         fontweight=\"normal\",\n",
    "    #         rotation=\"horizontal\",\n",
    "    # )\n",
    "\n",
    "# comment out to stop here\n",
    "# raise SystemExit(\"Stop right there! Continue below to produce the CSV file if needed.\")\n",
    "plt.grid()  # grrid for cputime marks\n",
    "\n",
    "####################################################################################\n",
    "## THIRD, super-impose the COVERAGE data in each subplot in the grid as done in\n",
    "#   https://stackoverflow.com/a/67612124\n",
    "#   we also rename the title of each subplot to include no of instances run\n",
    "#   we iterate on each axis and plot a barplot and add annotations/styles to it\n",
    "####################################################################################\n",
    "for ax in axes:\n",
    "    # redo title of subfigure to include number of instances between parenthesis, e.g., BARMAN-EIGHT50 (20)\n",
    "    domain = ax.get_title()\n",
    "    no_instances = coverage_df.loc[coverage_df.domain == ax.get_title()][\n",
    "        \"count\"\n",
    "    ].unique()[0]\n",
    "    ax.set_title(\n",
    "        f\"{domain} ({no_instances})\",\n",
    "        fontweight=\"demibold\",\n",
    "        ha=\"center\",\n",
    "        va=\"center\",\n",
    "        bbox=bbox_title,\n",
    "    )\n",
    "\n",
    "    # add bar of coverage % for each run/solver\n",
    "    ax2 = (\n",
    "        ax.twiny()\n",
    "    )  # get a twin y-axies https://matplotlib.org/stable/api/_as_gen/matplotlib.axes.Axes.twinx.html\n",
    "    g2 = sns.barplot(\n",
    "        data=coverage_df[coverage_df.domain.eq(domain)],\n",
    "        x=\"percent\",\n",
    "        y=\"solver\",\n",
    "        width=0.0001,\n",
    "        linewidth=BAR_COVERAGE_WIDTH,\n",
    "        edgecolor=\".5\",\n",
    "        facecolor=(0, 0, 0, 0),\n",
    "        ax=ax2,\n",
    "    )\n",
    "\n",
    "    g2.set_xlabel(\"coverage %\", x=0, ha=\"left\")\n",
    "    g2.set_xlim([0, 100])\n",
    "\n",
    "    # add box with % of coverage at the end of the barline, if any!\n",
    "    if len(ax2.containers) > 0:\n",
    "        ax2.bar_label(\n",
    "            ax2.containers[0],\n",
    "            fmt=FMT_COVERAGE_LABEL,\n",
    "            label_type=\"edge\",\n",
    "            padding=-5,\n",
    "            fontweight=\"normal\",\n",
    "            rotation=\"horizontal\",\n",
    "            bbox=bbox_coverage,\n",
    "        )\n",
    "\n",
    "\n",
    "# set the axis labels for the whole plot\n",
    "g.set_axis_labels(\"time\", \"solver\")\n",
    "\n",
    "# plt.grid()  # grid for coverage marks\n",
    "\n",
    "\n",
    "# axes[0].legend().remove()\n",
    "# g.set_axis_labels(x_var=None, y_var=None, clear_inner=True)\n",
    "sns.despine(left=True, bottom=True)  # no spines at all\n",
    "\n",
    "# Save it later, not here.\n",
    "# plt.savefig(os.path.join(CSV_FOLDER, f\"{SET}_plot.png\"))\n",
    "\n",
    "plt.tight_layout()  # at the end adjust so everything fits tight but well\n",
    "plt.show()"
   ]
  },
  {
   "cell_type": "markdown",
   "id": "52c8807e",
   "metadata": {},
   "source": [
    "### Verification of plot"
   ]
  },
  {
   "cell_type": "markdown",
   "id": "e119f461",
   "metadata": {},
   "source": [
    "Double check some of the numbers there to make sure they match!"
   ]
  },
  {
   "cell_type": "code",
   "execution_count": null,
   "id": "39ff5a2e",
   "metadata": {},
   "outputs": [],
   "source": [
    "df_sel.query(\"solver == 'A1' and domain == 'islands' and solved\")['cputime'].mean()\n",
    "\n",
    "df_sel.query(\"solver == 'A3' and domain == 'zenotravel'\")"
   ]
  },
  {
   "cell_type": "markdown",
   "id": "ce7cdef5",
   "metadata": {},
   "source": [
    "Compute `cputime` mean manually for a particular solver in a domain (so we can verify plots below). Should match label in the plot."
   ]
  },
  {
   "cell_type": "code",
   "execution_count": null,
   "id": "a4d5b716",
   "metadata": {},
   "outputs": [],
   "source": [
    "# R has correct scatter points, but wrong mean (shows in S1)\n",
    "# Python has correct mean, but wrong scatter points (shows in F2)\n",
    "S = \"A2\"\n",
    "D = \"spiky-tireworld\"\n",
    "df_m = df_sel.query(\"domain == @D and solver == @S and solved\")\n",
    "x = list(df_m[\"cputime\"].values)\n",
    "\n",
    "print(f\"Solver {S}:\", np.mean(x))\n",
    "\n",
    "df_m"
   ]
  },
  {
   "cell_type": "markdown",
   "id": "d7ad32c3",
   "metadata": {},
   "source": [
    "### Save plot to file"
   ]
  },
  {
   "cell_type": "markdown",
   "id": "93ae145c",
   "metadata": {},
   "source": [
    "Finally, save plot in a PNG file:"
   ]
  },
  {
   "cell_type": "code",
   "execution_count": null,
   "id": "cb904c32",
   "metadata": {},
   "outputs": [],
   "source": [
    "PLOT_FILE = os.path.splitext(STATS_CSV_FILE)[0] + \"_plot.png\"\n",
    "\n",
    "g.savefig(PLOT_FILE)\n",
    "\n",
    "print(\"Integrated time-coverage plot saved to\", PLOT_FILE)"
   ]
  }
 ],
 "metadata": {
  "kernelspec": {
   "display_name": "Python 3 (ipykernel)",
   "language": "python",
   "name": "python3"
  },
  "language_info": {
   "codemirror_mode": {
    "name": "ipython",
    "version": 3
   },
   "file_extension": ".py",
   "mimetype": "text/x-python",
   "name": "python",
   "nbconvert_exporter": "python",
   "pygments_lexer": "ipython3",
   "version": "3.10.12"
  }
 },
 "nbformat": 4,
 "nbformat_minor": 5
}
